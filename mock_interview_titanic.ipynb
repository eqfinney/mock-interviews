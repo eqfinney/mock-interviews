{
 "cells": [
  {
   "cell_type": "markdown",
   "metadata": {},
   "source": [
    "## Import the data."
   ]
  },
  {
   "cell_type": "code",
   "execution_count": 619,
   "metadata": {
    "collapsed": true
   },
   "outputs": [],
   "source": [
    "import pandas as pd"
   ]
  },
  {
   "cell_type": "code",
   "execution_count": 620,
   "metadata": {
    "collapsed": true
   },
   "outputs": [],
   "source": [
    "titanic_data = pd.read_csv('train.csv')"
   ]
  },
  {
   "cell_type": "code",
   "execution_count": 621,
   "metadata": {
    "collapsed": true
   },
   "outputs": [],
   "source": [
    "#first_class = titanic_data[titanic_data.Pclass == '1'].count()"
   ]
  },
  {
   "cell_type": "markdown",
   "metadata": {},
   "source": [
    "## What's the sex breakdown of the passengers in each class? (numbers of men, women, and potentially unknown) [mostly done]"
   ]
  },
  {
   "cell_type": "code",
   "execution_count": 622,
   "metadata": {},
   "outputs": [
    {
     "data": {
      "text/html": [
       "<div>\n",
       "<style>\n",
       "    .dataframe thead tr:only-child th {\n",
       "        text-align: right;\n",
       "    }\n",
       "\n",
       "    .dataframe thead th {\n",
       "        text-align: left;\n",
       "    }\n",
       "\n",
       "    .dataframe tbody tr th {\n",
       "        vertical-align: top;\n",
       "    }\n",
       "</style>\n",
       "<table border=\"1\" class=\"dataframe\">\n",
       "  <thead>\n",
       "    <tr style=\"text-align: right;\">\n",
       "      <th></th>\n",
       "      <th>PassengerId</th>\n",
       "      <th>Survived</th>\n",
       "      <th>Pclass</th>\n",
       "      <th>Name</th>\n",
       "      <th>Sex</th>\n",
       "      <th>Age</th>\n",
       "      <th>SibSp</th>\n",
       "      <th>Parch</th>\n",
       "      <th>Ticket</th>\n",
       "      <th>Fare</th>\n",
       "      <th>Cabin</th>\n",
       "      <th>Embarked</th>\n",
       "    </tr>\n",
       "  </thead>\n",
       "  <tbody>\n",
       "    <tr>\n",
       "      <th>0</th>\n",
       "      <td>1</td>\n",
       "      <td>0</td>\n",
       "      <td>3</td>\n",
       "      <td>Braund, Mr. Owen Harris</td>\n",
       "      <td>male</td>\n",
       "      <td>22.0</td>\n",
       "      <td>1</td>\n",
       "      <td>0</td>\n",
       "      <td>A/5 21171</td>\n",
       "      <td>7.2500</td>\n",
       "      <td>NaN</td>\n",
       "      <td>S</td>\n",
       "    </tr>\n",
       "    <tr>\n",
       "      <th>1</th>\n",
       "      <td>2</td>\n",
       "      <td>1</td>\n",
       "      <td>1</td>\n",
       "      <td>Cumings, Mrs. John Bradley (Florence Briggs Th...</td>\n",
       "      <td>female</td>\n",
       "      <td>38.0</td>\n",
       "      <td>1</td>\n",
       "      <td>0</td>\n",
       "      <td>PC 17599</td>\n",
       "      <td>71.2833</td>\n",
       "      <td>C85</td>\n",
       "      <td>C</td>\n",
       "    </tr>\n",
       "    <tr>\n",
       "      <th>2</th>\n",
       "      <td>3</td>\n",
       "      <td>1</td>\n",
       "      <td>3</td>\n",
       "      <td>Heikkinen, Miss. Laina</td>\n",
       "      <td>female</td>\n",
       "      <td>26.0</td>\n",
       "      <td>0</td>\n",
       "      <td>0</td>\n",
       "      <td>STON/O2. 3101282</td>\n",
       "      <td>7.9250</td>\n",
       "      <td>NaN</td>\n",
       "      <td>S</td>\n",
       "    </tr>\n",
       "    <tr>\n",
       "      <th>3</th>\n",
       "      <td>4</td>\n",
       "      <td>1</td>\n",
       "      <td>1</td>\n",
       "      <td>Futrelle, Mrs. Jacques Heath (Lily May Peel)</td>\n",
       "      <td>female</td>\n",
       "      <td>35.0</td>\n",
       "      <td>1</td>\n",
       "      <td>0</td>\n",
       "      <td>113803</td>\n",
       "      <td>53.1000</td>\n",
       "      <td>C123</td>\n",
       "      <td>S</td>\n",
       "    </tr>\n",
       "    <tr>\n",
       "      <th>4</th>\n",
       "      <td>5</td>\n",
       "      <td>0</td>\n",
       "      <td>3</td>\n",
       "      <td>Allen, Mr. William Henry</td>\n",
       "      <td>male</td>\n",
       "      <td>35.0</td>\n",
       "      <td>0</td>\n",
       "      <td>0</td>\n",
       "      <td>373450</td>\n",
       "      <td>8.0500</td>\n",
       "      <td>NaN</td>\n",
       "      <td>S</td>\n",
       "    </tr>\n",
       "  </tbody>\n",
       "</table>\n",
       "</div>"
      ],
      "text/plain": [
       "   PassengerId  Survived  Pclass  \\\n",
       "0            1         0       3   \n",
       "1            2         1       1   \n",
       "2            3         1       3   \n",
       "3            4         1       1   \n",
       "4            5         0       3   \n",
       "\n",
       "                                                Name     Sex   Age  SibSp  \\\n",
       "0                            Braund, Mr. Owen Harris    male  22.0      1   \n",
       "1  Cumings, Mrs. John Bradley (Florence Briggs Th...  female  38.0      1   \n",
       "2                             Heikkinen, Miss. Laina  female  26.0      0   \n",
       "3       Futrelle, Mrs. Jacques Heath (Lily May Peel)  female  35.0      1   \n",
       "4                           Allen, Mr. William Henry    male  35.0      0   \n",
       "\n",
       "   Parch            Ticket     Fare Cabin Embarked  \n",
       "0      0         A/5 21171   7.2500   NaN        S  \n",
       "1      0          PC 17599  71.2833   C85        C  \n",
       "2      0  STON/O2. 3101282   7.9250   NaN        S  \n",
       "3      0            113803  53.1000  C123        S  \n",
       "4      0            373450   8.0500   NaN        S  "
      ]
     },
     "execution_count": 622,
     "metadata": {},
     "output_type": "execute_result"
    }
   ],
   "source": [
    "titanic_data.head(5)"
   ]
  },
  {
   "cell_type": "code",
   "execution_count": 623,
   "metadata": {
    "collapsed": true
   },
   "outputs": [],
   "source": [
    "first_class = titanic_data[titanic_data.Pclass == 1].count()"
   ]
  },
  {
   "cell_type": "code",
   "execution_count": 624,
   "metadata": {},
   "outputs": [
    {
     "name": "stdout",
     "output_type": "stream",
     "text": [
      "PassengerId    216\n",
      "Survived       216\n",
      "Pclass         216\n",
      "Name           216\n",
      "Sex            216\n",
      "Age            186\n",
      "SibSp          216\n",
      "Parch          216\n",
      "Ticket         216\n",
      "Fare           216\n",
      "Cabin          176\n",
      "Embarked       214\n",
      "dtype: int64\n"
     ]
    }
   ],
   "source": [
    "print(first_class)"
   ]
  },
  {
   "cell_type": "code",
   "execution_count": 625,
   "metadata": {
    "collapsed": true
   },
   "outputs": [],
   "source": [
    "second_class = titanic_data[titanic_data.Pclass == 2].count()"
   ]
  },
  {
   "cell_type": "code",
   "execution_count": 626,
   "metadata": {},
   "outputs": [
    {
     "name": "stdout",
     "output_type": "stream",
     "text": [
      "PassengerId    184\n",
      "Survived       184\n",
      "Pclass         184\n",
      "Name           184\n",
      "Sex            184\n",
      "Age            173\n",
      "SibSp          184\n",
      "Parch          184\n",
      "Ticket         184\n",
      "Fare           184\n",
      "Cabin           16\n",
      "Embarked       184\n",
      "dtype: int64\n"
     ]
    }
   ],
   "source": [
    "print(second_class)"
   ]
  },
  {
   "cell_type": "code",
   "execution_count": 627,
   "metadata": {
    "collapsed": true
   },
   "outputs": [],
   "source": [
    "third_class = titanic_data[titanic_data.Pclass == 3].count()"
   ]
  },
  {
   "cell_type": "code",
   "execution_count": 628,
   "metadata": {},
   "outputs": [
    {
     "name": "stdout",
     "output_type": "stream",
     "text": [
      "PassengerId    491\n",
      "Survived       491\n",
      "Pclass         491\n",
      "Name           491\n",
      "Sex            491\n",
      "Age            355\n",
      "SibSp          491\n",
      "Parch          491\n",
      "Ticket         491\n",
      "Fare           491\n",
      "Cabin           12\n",
      "Embarked       491\n",
      "dtype: int64\n"
     ]
    }
   ],
   "source": [
    "print(third_class)"
   ]
  },
  {
   "cell_type": "code",
   "execution_count": 629,
   "metadata": {
    "collapsed": true
   },
   "outputs": [],
   "source": [
    "first_class_women = first_class[first_class.Sex == 'female']"
   ]
  },
  {
   "cell_type": "code",
   "execution_count": 630,
   "metadata": {},
   "outputs": [
    {
     "name": "stdout",
     "output_type": "stream",
     "text": [
      "216\n"
     ]
    }
   ],
   "source": [
    "print(first_class_women)"
   ]
  },
  {
   "cell_type": "code",
   "execution_count": 631,
   "metadata": {},
   "outputs": [
    {
     "data": {
      "text/plain": [
       "216"
      ]
     },
     "execution_count": 631,
     "metadata": {},
     "output_type": "execute_result"
    }
   ],
   "source": [
    "first_class.Sex"
   ]
  },
  {
   "cell_type": "code",
   "execution_count": 632,
   "metadata": {
    "collapsed": true
   },
   "outputs": [],
   "source": [
    "first_class_men = pd.crosstab(titanic_data.Pclass, titanic_data.Sex)"
   ]
  },
  {
   "cell_type": "code",
   "execution_count": 633,
   "metadata": {},
   "outputs": [
    {
     "name": "stdout",
     "output_type": "stream",
     "text": [
      "Sex     female  male\n",
      "Pclass              \n",
      "1           94   122\n",
      "2           76   108\n",
      "3          144   347\n"
     ]
    }
   ],
   "source": [
    "print(first_class_men)"
   ]
  },
  {
   "cell_type": "markdown",
   "metadata": {},
   "source": [
    "## Did the age distribution differ at all between the passenger classes? Create an illustrative graph."
   ]
  },
  {
   "cell_type": "code",
   "execution_count": 634,
   "metadata": {
    "collapsed": true
   },
   "outputs": [],
   "source": [
    "# We have to compare a categorical variable and a numeric variable. My first thought: create a violin plot.\n",
    "first_class = titanic_data[titanic_data.Pclass == 1].dropna()\n",
    "second_class = titanic_data[titanic_data.Pclass == 2].dropna()\n",
    "third_class = titanic_data[titanic_data.Pclass == 3].dropna()"
   ]
  },
  {
   "cell_type": "code",
   "execution_count": 635,
   "metadata": {
    "collapsed": true
   },
   "outputs": [],
   "source": [
    "first_class_age = first_class.Age\n",
    "second_class_age = second_class.Age\n",
    "third_class_age = third_class.Age"
   ]
  },
  {
   "cell_type": "code",
   "execution_count": 636,
   "metadata": {},
   "outputs": [
    {
     "data": {
      "image/png": "[encoded data removed]",
      "text/plain": [
       "<matplotlib.figure.Figure at 0x7f4e39278f98>"
      ]
     },
     "metadata": {},
     "output_type": "display_data"
    }
   ],
   "source": [
    "# Note: there was ~5 minutes of finagling with matplotlib here before I got the figure. \n",
    "import matplotlib.pyplot as plt\n",
    "ax = plt.axes()\n",
    "ax.violinplot(dataset=[first_class_age, second_class_age, third_class_age])\n",
    "plt.show()"
   ]
  },
  {
   "cell_type": "code",
   "execution_count": 637,
   "metadata": {},
   "outputs": [
    {
     "data": {
      "image/png": "[encoded data removed]",
      "text/plain": [
       "<matplotlib.figure.Figure at 0x7f4e3944de10>"
      ]
     },
     "metadata": {},
     "output_type": "display_data"
    }
   ],
   "source": [
    "# Updating the figure with tick marks for clarity.\n",
    "ax = plt.axes()\n",
    "ax.violinplot(dataset=[first_class_age, second_class_age, third_class_age], showextrema=True, \n",
    "              showmedians=True)\n",
    "plt.show()"
   ]
  },
  {
   "cell_type": "markdown",
   "metadata": {
    "collapsed": true
   },
   "source": [
    "## Predictive modeling questions:\n",
    "### Goal = build a predictive model for survival. (Survival is a 0/1 binary outcome).\n",
    "#### Create training and test data frames. (If test.csv does not have outcome labels, you can take a subset of train.csv as test data)."
   ]
  },
  {
   "cell_type": "code",
   "execution_count": 638,
   "metadata": {},
   "outputs": [
    {
     "data": {
      "text/html": [
       "<div>\n",
       "<style>\n",
       "    .dataframe thead tr:only-child th {\n",
       "        text-align: right;\n",
       "    }\n",
       "\n",
       "    .dataframe thead th {\n",
       "        text-align: left;\n",
       "    }\n",
       "\n",
       "    .dataframe tbody tr th {\n",
       "        vertical-align: top;\n",
       "    }\n",
       "</style>\n",
       "<table border=\"1\" class=\"dataframe\">\n",
       "  <thead>\n",
       "    <tr style=\"text-align: right;\">\n",
       "      <th></th>\n",
       "      <th>PassengerId</th>\n",
       "      <th>Pclass</th>\n",
       "      <th>Name</th>\n",
       "      <th>Sex</th>\n",
       "      <th>Age</th>\n",
       "      <th>SibSp</th>\n",
       "      <th>Parch</th>\n",
       "      <th>Ticket</th>\n",
       "      <th>Fare</th>\n",
       "      <th>Cabin</th>\n",
       "      <th>Embarked</th>\n",
       "    </tr>\n",
       "  </thead>\n",
       "  <tbody>\n",
       "    <tr>\n",
       "      <th>0</th>\n",
       "      <td>892</td>\n",
       "      <td>3</td>\n",
       "      <td>Kelly, Mr. James</td>\n",
       "      <td>male</td>\n",
       "      <td>34.5</td>\n",
       "      <td>0</td>\n",
       "      <td>0</td>\n",
       "      <td>330911</td>\n",
       "      <td>7.8292</td>\n",
       "      <td>NaN</td>\n",
       "      <td>Q</td>\n",
       "    </tr>\n",
       "    <tr>\n",
       "      <th>1</th>\n",
       "      <td>893</td>\n",
       "      <td>3</td>\n",
       "      <td>Wilkes, Mrs. James (Ellen Needs)</td>\n",
       "      <td>female</td>\n",
       "      <td>47.0</td>\n",
       "      <td>1</td>\n",
       "      <td>0</td>\n",
       "      <td>363272</td>\n",
       "      <td>7.0000</td>\n",
       "      <td>NaN</td>\n",
       "      <td>S</td>\n",
       "    </tr>\n",
       "    <tr>\n",
       "      <th>2</th>\n",
       "      <td>894</td>\n",
       "      <td>2</td>\n",
       "      <td>Myles, Mr. Thomas Francis</td>\n",
       "      <td>male</td>\n",
       "      <td>62.0</td>\n",
       "      <td>0</td>\n",
       "      <td>0</td>\n",
       "      <td>240276</td>\n",
       "      <td>9.6875</td>\n",
       "      <td>NaN</td>\n",
       "      <td>Q</td>\n",
       "    </tr>\n",
       "    <tr>\n",
       "      <th>3</th>\n",
       "      <td>895</td>\n",
       "      <td>3</td>\n",
       "      <td>Wirz, Mr. Albert</td>\n",
       "      <td>male</td>\n",
       "      <td>27.0</td>\n",
       "      <td>0</td>\n",
       "      <td>0</td>\n",
       "      <td>315154</td>\n",
       "      <td>8.6625</td>\n",
       "      <td>NaN</td>\n",
       "      <td>S</td>\n",
       "    </tr>\n",
       "    <tr>\n",
       "      <th>4</th>\n",
       "      <td>896</td>\n",
       "      <td>3</td>\n",
       "      <td>Hirvonen, Mrs. Alexander (Helga E Lindqvist)</td>\n",
       "      <td>female</td>\n",
       "      <td>22.0</td>\n",
       "      <td>1</td>\n",
       "      <td>1</td>\n",
       "      <td>3101298</td>\n",
       "      <td>12.2875</td>\n",
       "      <td>NaN</td>\n",
       "      <td>S</td>\n",
       "    </tr>\n",
       "  </tbody>\n",
       "</table>\n",
       "</div>"
      ],
      "text/plain": [
       "   PassengerId  Pclass                                          Name     Sex  \\\n",
       "0          892       3                              Kelly, Mr. James    male   \n",
       "1          893       3              Wilkes, Mrs. James (Ellen Needs)  female   \n",
       "2          894       2                     Myles, Mr. Thomas Francis    male   \n",
       "3          895       3                              Wirz, Mr. Albert    male   \n",
       "4          896       3  Hirvonen, Mrs. Alexander (Helga E Lindqvist)  female   \n",
       "\n",
       "    Age  SibSp  Parch   Ticket     Fare Cabin Embarked  \n",
       "0  34.5      0      0   330911   7.8292   NaN        Q  \n",
       "1  47.0      1      0   363272   7.0000   NaN        S  \n",
       "2  62.0      0      0   240276   9.6875   NaN        Q  \n",
       "3  27.0      0      0   315154   8.6625   NaN        S  \n",
       "4  22.0      1      1  3101298  12.2875   NaN        S  "
      ]
     },
     "execution_count": 638,
     "metadata": {},
     "output_type": "execute_result"
    }
   ],
   "source": [
    "# First I find out whether the test data have outcome labels.\n",
    "test_data = pd.read_csv('test.csv')\n",
    "test_data.head()"
   ]
  },
  {
   "cell_type": "code",
   "execution_count": 639,
   "metadata": {},
   "outputs": [
    {
     "data": {
      "text/plain": [
       "Index(['PassengerId', 'Pclass', 'Name', 'Sex', 'Age', 'SibSp', 'Parch',\n",
       "       'Ticket', 'Fare', 'Cabin', 'Embarked'],\n",
       "      dtype='object')"
      ]
     },
     "execution_count": 639,
     "metadata": {},
     "output_type": "execute_result"
    }
   ],
   "source": [
    "test_data.columns"
   ]
  },
  {
   "cell_type": "code",
   "execution_count": 640,
   "metadata": {},
   "outputs": [
    {
     "data": {
      "text/plain": [
       "PassengerId    891\n",
       "Survived       891\n",
       "Pclass         891\n",
       "Name           891\n",
       "Sex            891\n",
       "Age            714\n",
       "SibSp          891\n",
       "Parch          891\n",
       "Ticket         891\n",
       "Fare           891\n",
       "Cabin          204\n",
       "Embarked       889\n",
       "dtype: int64"
      ]
     },
     "execution_count": 640,
     "metadata": {},
     "output_type": "execute_result"
    }
   ],
   "source": [
    "# Looks like there are no survival labels. So we create a set of training and test data.\n",
    "# First clarify: how many records do we have?\n",
    "titanic_data.count()"
   ]
  },
  {
   "cell_type": "code",
   "execution_count": 641,
   "metadata": {
    "collapsed": true
   },
   "outputs": [],
   "source": [
    "# Cool. Looks like 891 records, several columns have missing data. \n",
    "# Looks like the \"Cabin\" column has so much missing data that it's practically unusable.\n",
    "# The rest of the columns are probably fine.\n",
    "# Note: I spent a few minutes trying to remember how to drop a column with Pandas\n",
    "titanic_data = titanic_data.drop('Cabin', axis=1)"
   ]
  },
  {
   "cell_type": "code",
   "execution_count": 642,
   "metadata": {},
   "outputs": [
    {
     "data": {
      "text/html": [
       "<div>\n",
       "<style>\n",
       "    .dataframe thead tr:only-child th {\n",
       "        text-align: right;\n",
       "    }\n",
       "\n",
       "    .dataframe thead th {\n",
       "        text-align: left;\n",
       "    }\n",
       "\n",
       "    .dataframe tbody tr th {\n",
       "        vertical-align: top;\n",
       "    }\n",
       "</style>\n",
       "<table border=\"1\" class=\"dataframe\">\n",
       "  <thead>\n",
       "    <tr style=\"text-align: right;\">\n",
       "      <th></th>\n",
       "      <th>PassengerId</th>\n",
       "      <th>Survived</th>\n",
       "      <th>Pclass</th>\n",
       "      <th>Name</th>\n",
       "      <th>Sex</th>\n",
       "      <th>Age</th>\n",
       "      <th>SibSp</th>\n",
       "      <th>Parch</th>\n",
       "      <th>Ticket</th>\n",
       "      <th>Fare</th>\n",
       "      <th>Embarked</th>\n",
       "    </tr>\n",
       "  </thead>\n",
       "  <tbody>\n",
       "    <tr>\n",
       "      <th>210</th>\n",
       "      <td>211</td>\n",
       "      <td>0</td>\n",
       "      <td>3</td>\n",
       "      <td>Ali, Mr. Ahmed</td>\n",
       "      <td>male</td>\n",
       "      <td>24.0</td>\n",
       "      <td>0</td>\n",
       "      <td>0</td>\n",
       "      <td>SOTON/O.Q. 3101311</td>\n",
       "      <td>7.0500</td>\n",
       "      <td>S</td>\n",
       "    </tr>\n",
       "    <tr>\n",
       "      <th>283</th>\n",
       "      <td>284</td>\n",
       "      <td>1</td>\n",
       "      <td>3</td>\n",
       "      <td>Dorking, Mr. Edward Arthur</td>\n",
       "      <td>male</td>\n",
       "      <td>19.0</td>\n",
       "      <td>0</td>\n",
       "      <td>0</td>\n",
       "      <td>A/5. 10482</td>\n",
       "      <td>8.0500</td>\n",
       "      <td>S</td>\n",
       "    </tr>\n",
       "    <tr>\n",
       "      <th>321</th>\n",
       "      <td>322</td>\n",
       "      <td>0</td>\n",
       "      <td>3</td>\n",
       "      <td>Danoff, Mr. Yoto</td>\n",
       "      <td>male</td>\n",
       "      <td>27.0</td>\n",
       "      <td>0</td>\n",
       "      <td>0</td>\n",
       "      <td>349219</td>\n",
       "      <td>7.8958</td>\n",
       "      <td>S</td>\n",
       "    </tr>\n",
       "    <tr>\n",
       "      <th>660</th>\n",
       "      <td>661</td>\n",
       "      <td>1</td>\n",
       "      <td>1</td>\n",
       "      <td>Frauenthal, Dr. Henry William</td>\n",
       "      <td>male</td>\n",
       "      <td>50.0</td>\n",
       "      <td>2</td>\n",
       "      <td>0</td>\n",
       "      <td>PC 17611</td>\n",
       "      <td>133.6500</td>\n",
       "      <td>S</td>\n",
       "    </tr>\n",
       "    <tr>\n",
       "      <th>272</th>\n",
       "      <td>273</td>\n",
       "      <td>1</td>\n",
       "      <td>2</td>\n",
       "      <td>Mellinger, Mrs. (Elizabeth Anne Maidment)</td>\n",
       "      <td>female</td>\n",
       "      <td>41.0</td>\n",
       "      <td>0</td>\n",
       "      <td>1</td>\n",
       "      <td>250644</td>\n",
       "      <td>19.5000</td>\n",
       "      <td>S</td>\n",
       "    </tr>\n",
       "  </tbody>\n",
       "</table>\n",
       "</div>"
      ],
      "text/plain": [
       "     PassengerId  Survived  Pclass                                       Name  \\\n",
       "210          211         0       3                             Ali, Mr. Ahmed   \n",
       "283          284         1       3                 Dorking, Mr. Edward Arthur   \n",
       "321          322         0       3                           Danoff, Mr. Yoto   \n",
       "660          661         1       1              Frauenthal, Dr. Henry William   \n",
       "272          273         1       2  Mellinger, Mrs. (Elizabeth Anne Maidment)   \n",
       "\n",
       "        Sex   Age  SibSp  Parch              Ticket      Fare Embarked  \n",
       "210    male  24.0      0      0  SOTON/O.Q. 3101311    7.0500        S  \n",
       "283    male  19.0      0      0          A/5. 10482    8.0500        S  \n",
       "321    male  27.0      0      0              349219    7.8958        S  \n",
       "660    male  50.0      2      0            PC 17611  133.6500        S  \n",
       "272  female  41.0      0      1              250644   19.5000        S  "
      ]
     },
     "execution_count": 642,
     "metadata": {},
     "output_type": "execute_result"
    }
   ],
   "source": [
    "# I now randomize the records in case records at the beginning are different form those at the end.\n",
    "from sklearn.utils import shuffle\n",
    "titanic_data = shuffle(titanic_data)\n",
    "titanic_data.head()"
   ]
  },
  {
   "cell_type": "code",
   "execution_count": 643,
   "metadata": {},
   "outputs": [
    {
     "data": {
      "text/plain": [
       "629    0\n",
       "853    1\n",
       "591    1\n",
       "373    0\n",
       "397    0\n",
       "827    1\n",
       "8      1\n",
       "76     0\n",
       "63     0\n",
       "888    0\n",
       "362    0\n",
       "74     1\n",
       "788    1\n",
       "839    1\n",
       "89     0\n",
       "335    0\n",
       "10     1\n",
       "24     0\n",
       "334    1\n",
       "794    0\n",
       "595    0\n",
       "125    1\n",
       "202    0\n",
       "433    0\n",
       "639    0\n",
       "3      1\n",
       "644    1\n",
       "437    1\n",
       "36     1\n",
       "4      0\n",
       "      ..\n",
       "408    0\n",
       "616    0\n",
       "302    0\n",
       "819    0\n",
       "142    1\n",
       "714    0\n",
       "450    0\n",
       "469    1\n",
       "598    0\n",
       "240    0\n",
       "510    1\n",
       "570    1\n",
       "666    0\n",
       "136    1\n",
       "65     1\n",
       "85     1\n",
       "801    1\n",
       "56     1\n",
       "57     0\n",
       "520    1\n",
       "187    1\n",
       "496    1\n",
       "613    0\n",
       "699    0\n",
       "267    1\n",
       "809    1\n",
       "775    0\n",
       "132    0\n",
       "588    0\n",
       "111    0\n",
       "Name: Survived, Length: 712, dtype: int64"
      ]
     },
     "execution_count": 643,
     "metadata": {},
     "output_type": "execute_result"
    }
   ],
   "source": [
    "# Great. Seems like they're in random order. \n",
    "# Now we split the data into training and test sets.\n",
    "# In the real world, we'd also want to include a validation set, but I'm not going to here.\n",
    "# I'm going to implement an 80-20 split.\n",
    "from sklearn.model_selection import train_test_split\n",
    "labels = titanic_data.Survived\n",
    "titanic_data = titanic_data.drop('Survived', axis=1)\n",
    "titanic_data_train, titanic_data_test, labels_train, labels_test = train_test_split(titanic_data, \n",
    "                                                                                    labels, test_size=0.2)\n",
    "labels_train"
   ]
  },
  {
   "cell_type": "code",
   "execution_count": 644,
   "metadata": {},
   "outputs": [
    {
     "data": {
      "text/html": [
       "<div>\n",
       "<style>\n",
       "    .dataframe thead tr:only-child th {\n",
       "        text-align: right;\n",
       "    }\n",
       "\n",
       "    .dataframe thead th {\n",
       "        text-align: left;\n",
       "    }\n",
       "\n",
       "    .dataframe tbody tr th {\n",
       "        vertical-align: top;\n",
       "    }\n",
       "</style>\n",
       "<table border=\"1\" class=\"dataframe\">\n",
       "  <thead>\n",
       "    <tr style=\"text-align: right;\">\n",
       "      <th></th>\n",
       "      <th>PassengerId</th>\n",
       "      <th>Pclass</th>\n",
       "      <th>Name</th>\n",
       "      <th>Sex</th>\n",
       "      <th>Age</th>\n",
       "      <th>SibSp</th>\n",
       "      <th>Parch</th>\n",
       "      <th>Ticket</th>\n",
       "      <th>Fare</th>\n",
       "      <th>Embarked</th>\n",
       "    </tr>\n",
       "  </thead>\n",
       "  <tbody>\n",
       "    <tr>\n",
       "      <th>629</th>\n",
       "      <td>630</td>\n",
       "      <td>3</td>\n",
       "      <td>O'Connell, Mr. Patrick D</td>\n",
       "      <td>male</td>\n",
       "      <td>NaN</td>\n",
       "      <td>0</td>\n",
       "      <td>0</td>\n",
       "      <td>334912</td>\n",
       "      <td>7.7333</td>\n",
       "      <td>Q</td>\n",
       "    </tr>\n",
       "    <tr>\n",
       "      <th>853</th>\n",
       "      <td>854</td>\n",
       "      <td>1</td>\n",
       "      <td>Lines, Miss. Mary Conover</td>\n",
       "      <td>female</td>\n",
       "      <td>16.0</td>\n",
       "      <td>0</td>\n",
       "      <td>1</td>\n",
       "      <td>PC 17592</td>\n",
       "      <td>39.4000</td>\n",
       "      <td>S</td>\n",
       "    </tr>\n",
       "    <tr>\n",
       "      <th>591</th>\n",
       "      <td>592</td>\n",
       "      <td>1</td>\n",
       "      <td>Stephenson, Mrs. Walter Bertram (Martha Eustis)</td>\n",
       "      <td>female</td>\n",
       "      <td>52.0</td>\n",
       "      <td>1</td>\n",
       "      <td>0</td>\n",
       "      <td>36947</td>\n",
       "      <td>78.2667</td>\n",
       "      <td>C</td>\n",
       "    </tr>\n",
       "    <tr>\n",
       "      <th>373</th>\n",
       "      <td>374</td>\n",
       "      <td>1</td>\n",
       "      <td>Ringhini, Mr. Sante</td>\n",
       "      <td>male</td>\n",
       "      <td>22.0</td>\n",
       "      <td>0</td>\n",
       "      <td>0</td>\n",
       "      <td>PC 17760</td>\n",
       "      <td>135.6333</td>\n",
       "      <td>C</td>\n",
       "    </tr>\n",
       "    <tr>\n",
       "      <th>397</th>\n",
       "      <td>398</td>\n",
       "      <td>2</td>\n",
       "      <td>McKane, Mr. Peter David</td>\n",
       "      <td>male</td>\n",
       "      <td>46.0</td>\n",
       "      <td>0</td>\n",
       "      <td>0</td>\n",
       "      <td>28403</td>\n",
       "      <td>26.0000</td>\n",
       "      <td>S</td>\n",
       "    </tr>\n",
       "  </tbody>\n",
       "</table>\n",
       "</div>"
      ],
      "text/plain": [
       "     PassengerId  Pclass                                             Name  \\\n",
       "629          630       3                         O'Connell, Mr. Patrick D   \n",
       "853          854       1                        Lines, Miss. Mary Conover   \n",
       "591          592       1  Stephenson, Mrs. Walter Bertram (Martha Eustis)   \n",
       "373          374       1                              Ringhini, Mr. Sante   \n",
       "397          398       2                          McKane, Mr. Peter David   \n",
       "\n",
       "        Sex   Age  SibSp  Parch    Ticket      Fare Embarked  \n",
       "629    male   NaN      0      0    334912    7.7333        Q  \n",
       "853  female  16.0      0      1  PC 17592   39.4000        S  \n",
       "591  female  52.0      1      0     36947   78.2667        C  \n",
       "373    male  22.0      0      0  PC 17760  135.6333        C  \n",
       "397    male  46.0      0      0     28403   26.0000        S  "
      ]
     },
     "execution_count": 644,
     "metadata": {},
     "output_type": "execute_result"
    }
   ],
   "source": [
    "titanic_data_train.head()"
   ]
  },
  {
   "cell_type": "markdown",
   "metadata": {},
   "source": [
    "## Choose features. (You can use any of the columns themselves, or create new features from the columns. Don't spent tooooo much time here; we're looking for something quick & dirty)."
   ]
  },
  {
   "cell_type": "code",
   "execution_count": 645,
   "metadata": {},
   "outputs": [
    {
     "data": {
      "text/plain": [
       "629    0\n",
       "853    1\n",
       "591    1\n",
       "373    0\n",
       "397    0\n",
       "dtype: int64"
      ]
     },
     "execution_count": 645,
     "metadata": {},
     "output_type": "execute_result"
    }
   ],
   "source": [
    "# Okay, I already started to do this by ditching the Cabin feature.\n",
    "# Names, passenger IDs, and ticket numbers should be unique and shouldn't be predictive.\n",
    "# I'd check that more carefully in a full analysis, but this is quick & dirty.\n",
    "# So I'm going to pick sex, age, class, family members, fare, and port of embarkation as the features.\n",
    "titanic_data_train.family_members = titanic_data_train.SibSp + titanic_data_train.Parch\n",
    "titanic_data_train.family_members.head()"
   ]
  },
  {
   "cell_type": "markdown",
   "metadata": {},
   "source": [
    "# This is about where I hit the 40-minute mark.\n",
    "## I'll continue writing the rest though, for practice."
   ]
  },
  {
   "cell_type": "code",
   "execution_count": 646,
   "metadata": {},
   "outputs": [
    {
     "data": {
      "text/html": [
       "<div>\n",
       "<style>\n",
       "    .dataframe thead tr:only-child th {\n",
       "        text-align: right;\n",
       "    }\n",
       "\n",
       "    .dataframe thead th {\n",
       "        text-align: left;\n",
       "    }\n",
       "\n",
       "    .dataframe tbody tr th {\n",
       "        vertical-align: top;\n",
       "    }\n",
       "</style>\n",
       "<table border=\"1\" class=\"dataframe\">\n",
       "  <thead>\n",
       "    <tr style=\"text-align: right;\">\n",
       "      <th></th>\n",
       "      <th>Pclass</th>\n",
       "      <th>Sex</th>\n",
       "      <th>Age</th>\n",
       "      <th>Fare</th>\n",
       "      <th>Embarked</th>\n",
       "      <th>Family</th>\n",
       "    </tr>\n",
       "  </thead>\n",
       "  <tbody>\n",
       "    <tr>\n",
       "      <th>629</th>\n",
       "      <td>3</td>\n",
       "      <td>male</td>\n",
       "      <td>NaN</td>\n",
       "      <td>7.7333</td>\n",
       "      <td>Q</td>\n",
       "      <td>0</td>\n",
       "    </tr>\n",
       "    <tr>\n",
       "      <th>853</th>\n",
       "      <td>1</td>\n",
       "      <td>female</td>\n",
       "      <td>16.0</td>\n",
       "      <td>39.4000</td>\n",
       "      <td>S</td>\n",
       "      <td>1</td>\n",
       "    </tr>\n",
       "    <tr>\n",
       "      <th>591</th>\n",
       "      <td>1</td>\n",
       "      <td>female</td>\n",
       "      <td>52.0</td>\n",
       "      <td>78.2667</td>\n",
       "      <td>C</td>\n",
       "      <td>1</td>\n",
       "    </tr>\n",
       "    <tr>\n",
       "      <th>373</th>\n",
       "      <td>1</td>\n",
       "      <td>male</td>\n",
       "      <td>22.0</td>\n",
       "      <td>135.6333</td>\n",
       "      <td>C</td>\n",
       "      <td>0</td>\n",
       "    </tr>\n",
       "    <tr>\n",
       "      <th>397</th>\n",
       "      <td>2</td>\n",
       "      <td>male</td>\n",
       "      <td>46.0</td>\n",
       "      <td>26.0000</td>\n",
       "      <td>S</td>\n",
       "      <td>0</td>\n",
       "    </tr>\n",
       "  </tbody>\n",
       "</table>\n",
       "</div>"
      ],
      "text/plain": [
       "     Pclass     Sex   Age      Fare Embarked  Family\n",
       "629       3    male   NaN    7.7333        Q       0\n",
       "853       1  female  16.0   39.4000        S       1\n",
       "591       1  female  52.0   78.2667        C       1\n",
       "373       1    male  22.0  135.6333        C       0\n",
       "397       2    male  46.0   26.0000        S       0"
      ]
     },
     "execution_count": 646,
     "metadata": {},
     "output_type": "execute_result"
    }
   ],
   "source": [
    "titanic_data_train = titanic_data_train.drop('Ticket', axis=1)\n",
    "family_members = titanic_data_train.SibSp + titanic_data_train.Parch\n",
    "titanic_data_train['Family'] = family_members\n",
    "titanic_data_train = titanic_data_train.drop('SibSp', axis=1)\n",
    "titanic_data_train = titanic_data_train.drop('Parch', axis=1)\n",
    "titanic_data_train = titanic_data_train.drop('PassengerId', axis=1)\n",
    "titanic_data_train = titanic_data_train.drop('Name', axis=1)\n",
    "titanic_data_train.head()"
   ]
  },
  {
   "cell_type": "code",
   "execution_count": 647,
   "metadata": {},
   "outputs": [
    {
     "data": {
      "text/plain": [
       "Pclass      575\n",
       "Sex         575\n",
       "Age         575\n",
       "Fare        575\n",
       "Embarked    575\n",
       "Family      575\n",
       "dtype: int64"
      ]
     },
     "execution_count": 647,
     "metadata": {},
     "output_type": "execute_result"
    }
   ],
   "source": [
    "# Finally, before we actualy use the model, we need to handle the missing values. \n",
    "# In this very quick analysis, I will model survival with the age column (and NaNs dropped).\n",
    "# Since people with no age listed may be fundamentally different from the general population,\n",
    "#   I will also model survival for the fulldata set but without the age column with all the NaNs.\n",
    "#   (we have already seen from counts that age is the only remaining column with >1 NaN)\n",
    "# In a full analysis I would use clustering methods to determine features and to assess \n",
    "#    how different the population with missing age data is from the general population\n",
    "titanic_data_train['Labels'] = labels_train\n",
    "drop_titanic_data_train = titanic_data_train.dropna()\n",
    "drop_labels_train = drop_titanic_data_train['Labels']\n",
    "titanic_data_train = titanic_data_train.drop('Labels', axis=1)\n",
    "drop_titanic_data_train = drop_titanic_data_train.drop('Labels', axis=1)\n",
    "titanic_data_train.count()\n",
    "drop_titanic_data_train.count()"
   ]
  },
  {
   "cell_type": "markdown",
   "metadata": {},
   "source": [
    "## Choose a type of model (any binary classifier will do)"
   ]
  },
  {
   "cell_type": "code",
   "execution_count": 648,
   "metadata": {
    "collapsed": true
   },
   "outputs": [],
   "source": [
    "# Logistic regression is a straightforward binary classifier that can handle many parameters.\n",
    "# Since it uses the logistic response function, probabilities will always stay between 0 and 1."
   ]
  },
  {
   "cell_type": "markdown",
   "metadata": {},
   "source": [
    "## Fit the model"
   ]
  },
  {
   "cell_type": "code",
   "execution_count": 649,
   "metadata": {},
   "outputs": [],
   "source": [
    "# Fitting the model\n",
    "from sklearn.linear_model import LogisticRegression\n",
    "LogisticModel = LogisticRegression()\n",
    "#LogisticModel.fit(X=drop_titanic_data_train, y=drop_labels_train)"
   ]
  },
  {
   "cell_type": "code",
   "execution_count": 650,
   "metadata": {},
   "outputs": [
    {
     "data": {
      "text/plain": [
       "array(['S', 'C', 'Q'], dtype=object)"
      ]
     },
     "execution_count": 650,
     "metadata": {},
     "output_type": "execute_result"
    }
   ],
   "source": [
    "# I forgot that the Sex and Embarked columns need to be converted to numeric quantities. \n",
    "# We need to find out how many unique columns are in Embarked, and set a column for each\n",
    "#    since they are presumably unordered.\n",
    "drop_titanic_data_train.Embarked.unique()"
   ]
  },
  {
   "cell_type": "code",
   "execution_count": 651,
   "metadata": {},
   "outputs": [],
   "source": [
    "from sklearn.preprocessing import OneHotEncoder\n",
    "TitanicEncoder = OneHotEncoder(n_values=3)\n",
    "# I had not spent time with this encoder. I also had major technical challenges (laggy browser) here. \n",
    "# So it took a while to figure out how to do this. I left the code and came back to it later.\n",
    "# some wrong directions\n",
    "#binary_data = TitanicEncoder.transform(drop_titanic_data_train.Embarked)\n",
    "#binary_data = TitanicEncoder.fit_transform(drop_titanic_data_train.Embarked)\n",
    "#binary_data = TitanicEncoder.fit(drop_titanic_data_train.Embarked)"
   ]
  },
  {
   "cell_type": "code",
   "execution_count": 652,
   "metadata": {},
   "outputs": [
    {
     "data": {
      "text/html": [
       "<div>\n",
       "<style>\n",
       "    .dataframe thead tr:only-child th {\n",
       "        text-align: right;\n",
       "    }\n",
       "\n",
       "    .dataframe thead th {\n",
       "        text-align: left;\n",
       "    }\n",
       "\n",
       "    .dataframe tbody tr th {\n",
       "        vertical-align: top;\n",
       "    }\n",
       "</style>\n",
       "<table border=\"1\" class=\"dataframe\">\n",
       "  <thead>\n",
       "    <tr style=\"text-align: right;\">\n",
       "      <th></th>\n",
       "      <th>C</th>\n",
       "      <th>Q</th>\n",
       "      <th>S</th>\n",
       "    </tr>\n",
       "  </thead>\n",
       "  <tbody>\n",
       "    <tr>\n",
       "      <th>853</th>\n",
       "      <td>0</td>\n",
       "      <td>0</td>\n",
       "      <td>1</td>\n",
       "    </tr>\n",
       "    <tr>\n",
       "      <th>591</th>\n",
       "      <td>1</td>\n",
       "      <td>0</td>\n",
       "      <td>0</td>\n",
       "    </tr>\n",
       "    <tr>\n",
       "      <th>373</th>\n",
       "      <td>1</td>\n",
       "      <td>0</td>\n",
       "      <td>0</td>\n",
       "    </tr>\n",
       "    <tr>\n",
       "      <th>397</th>\n",
       "      <td>0</td>\n",
       "      <td>0</td>\n",
       "      <td>1</td>\n",
       "    </tr>\n",
       "    <tr>\n",
       "      <th>827</th>\n",
       "      <td>1</td>\n",
       "      <td>0</td>\n",
       "      <td>0</td>\n",
       "    </tr>\n",
       "  </tbody>\n",
       "</table>\n",
       "</div>"
      ],
      "text/plain": [
       "     C  Q  S\n",
       "853  0  0  1\n",
       "591  1  0  0\n",
       "373  1  0  0\n",
       "397  0  0  1\n",
       "827  1  0  0"
      ]
     },
     "execution_count": 652,
     "metadata": {},
     "output_type": "execute_result"
    }
   ],
   "source": [
    "# but this was totally the wrong direction! Because as I found out, pandas has get_dummies.\n",
    "binary_data = pd.get_dummies(drop_titanic_data_train.Embarked)\n",
    "binary_data.head()"
   ]
  },
  {
   "cell_type": "code",
   "execution_count": 653,
   "metadata": {},
   "outputs": [
    {
     "data": {
      "text/html": [
       "<div>\n",
       "<style>\n",
       "    .dataframe thead tr:only-child th {\n",
       "        text-align: right;\n",
       "    }\n",
       "\n",
       "    .dataframe thead th {\n",
       "        text-align: left;\n",
       "    }\n",
       "\n",
       "    .dataframe tbody tr th {\n",
       "        vertical-align: top;\n",
       "    }\n",
       "</style>\n",
       "<table border=\"1\" class=\"dataframe\">\n",
       "  <thead>\n",
       "    <tr style=\"text-align: right;\">\n",
       "      <th></th>\n",
       "      <th>Pclass</th>\n",
       "      <th>Sex</th>\n",
       "      <th>Age</th>\n",
       "      <th>Fare</th>\n",
       "      <th>Family</th>\n",
       "      <th>C</th>\n",
       "      <th>S</th>\n",
       "      <th>Q</th>\n",
       "    </tr>\n",
       "  </thead>\n",
       "  <tbody>\n",
       "    <tr>\n",
       "      <th>853</th>\n",
       "      <td>1</td>\n",
       "      <td>female</td>\n",
       "      <td>16.0</td>\n",
       "      <td>39.4000</td>\n",
       "      <td>1</td>\n",
       "      <td>0</td>\n",
       "      <td>1</td>\n",
       "      <td>0</td>\n",
       "    </tr>\n",
       "    <tr>\n",
       "      <th>591</th>\n",
       "      <td>1</td>\n",
       "      <td>female</td>\n",
       "      <td>52.0</td>\n",
       "      <td>78.2667</td>\n",
       "      <td>1</td>\n",
       "      <td>1</td>\n",
       "      <td>0</td>\n",
       "      <td>0</td>\n",
       "    </tr>\n",
       "    <tr>\n",
       "      <th>373</th>\n",
       "      <td>1</td>\n",
       "      <td>male</td>\n",
       "      <td>22.0</td>\n",
       "      <td>135.6333</td>\n",
       "      <td>0</td>\n",
       "      <td>1</td>\n",
       "      <td>0</td>\n",
       "      <td>0</td>\n",
       "    </tr>\n",
       "    <tr>\n",
       "      <th>397</th>\n",
       "      <td>2</td>\n",
       "      <td>male</td>\n",
       "      <td>46.0</td>\n",
       "      <td>26.0000</td>\n",
       "      <td>0</td>\n",
       "      <td>0</td>\n",
       "      <td>1</td>\n",
       "      <td>0</td>\n",
       "    </tr>\n",
       "    <tr>\n",
       "      <th>827</th>\n",
       "      <td>2</td>\n",
       "      <td>male</td>\n",
       "      <td>1.0</td>\n",
       "      <td>37.0042</td>\n",
       "      <td>2</td>\n",
       "      <td>1</td>\n",
       "      <td>0</td>\n",
       "      <td>0</td>\n",
       "    </tr>\n",
       "  </tbody>\n",
       "</table>\n",
       "</div>"
      ],
      "text/plain": [
       "     Pclass     Sex   Age      Fare  Family  C  S  Q\n",
       "853       1  female  16.0   39.4000       1  0  1  0\n",
       "591       1  female  52.0   78.2667       1  1  0  0\n",
       "373       1    male  22.0  135.6333       0  1  0  0\n",
       "397       2    male  46.0   26.0000       0  0  1  0\n",
       "827       2    male   1.0   37.0042       2  1  0  0"
      ]
     },
     "execution_count": 653,
     "metadata": {},
     "output_type": "execute_result"
    }
   ],
   "source": [
    "drop_titanic_data_train['C'] = binary_data['C']\n",
    "drop_titanic_data_train['S'] = binary_data['S']\n",
    "drop_titanic_data_train['Q'] = binary_data['Q']\n",
    "drop_titanic_data_train = drop_titanic_data_train.drop('Embarked', axis=1)\n",
    "drop_titanic_data_train.head()"
   ]
  },
  {
   "cell_type": "code",
   "execution_count": 654,
   "metadata": {},
   "outputs": [
    {
     "data": {
      "text/html": [
       "<div>\n",
       "<style>\n",
       "    .dataframe thead tr:only-child th {\n",
       "        text-align: right;\n",
       "    }\n",
       "\n",
       "    .dataframe thead th {\n",
       "        text-align: left;\n",
       "    }\n",
       "\n",
       "    .dataframe tbody tr th {\n",
       "        vertical-align: top;\n",
       "    }\n",
       "</style>\n",
       "<table border=\"1\" class=\"dataframe\">\n",
       "  <thead>\n",
       "    <tr style=\"text-align: right;\">\n",
       "      <th></th>\n",
       "      <th>female</th>\n",
       "      <th>male</th>\n",
       "    </tr>\n",
       "  </thead>\n",
       "  <tbody>\n",
       "    <tr>\n",
       "      <th>853</th>\n",
       "      <td>1</td>\n",
       "      <td>0</td>\n",
       "    </tr>\n",
       "    <tr>\n",
       "      <th>591</th>\n",
       "      <td>1</td>\n",
       "      <td>0</td>\n",
       "    </tr>\n",
       "    <tr>\n",
       "      <th>373</th>\n",
       "      <td>0</td>\n",
       "      <td>1</td>\n",
       "    </tr>\n",
       "    <tr>\n",
       "      <th>397</th>\n",
       "      <td>0</td>\n",
       "      <td>1</td>\n",
       "    </tr>\n",
       "    <tr>\n",
       "      <th>827</th>\n",
       "      <td>0</td>\n",
       "      <td>1</td>\n",
       "    </tr>\n",
       "  </tbody>\n",
       "</table>\n",
       "</div>"
      ],
      "text/plain": [
       "     female  male\n",
       "853       1     0\n",
       "591       1     0\n",
       "373       0     1\n",
       "397       0     1\n",
       "827       0     1"
      ]
     },
     "execution_count": 654,
     "metadata": {},
     "output_type": "execute_result"
    }
   ],
   "source": [
    "# and now we do the same for Sex\n",
    "gender_data = pd.get_dummies(drop_titanic_data_train.Sex)\n",
    "gender_data.head()"
   ]
  },
  {
   "cell_type": "code",
   "execution_count": 655,
   "metadata": {},
   "outputs": [
    {
     "data": {
      "text/html": [
       "<div>\n",
       "<style>\n",
       "    .dataframe thead tr:only-child th {\n",
       "        text-align: right;\n",
       "    }\n",
       "\n",
       "    .dataframe thead th {\n",
       "        text-align: left;\n",
       "    }\n",
       "\n",
       "    .dataframe tbody tr th {\n",
       "        vertical-align: top;\n",
       "    }\n",
       "</style>\n",
       "<table border=\"1\" class=\"dataframe\">\n",
       "  <thead>\n",
       "    <tr style=\"text-align: right;\">\n",
       "      <th></th>\n",
       "      <th>Pclass</th>\n",
       "      <th>Age</th>\n",
       "      <th>Fare</th>\n",
       "      <th>Family</th>\n",
       "      <th>C</th>\n",
       "      <th>S</th>\n",
       "      <th>Q</th>\n",
       "      <th>male</th>\n",
       "      <th>female</th>\n",
       "    </tr>\n",
       "  </thead>\n",
       "  <tbody>\n",
       "    <tr>\n",
       "      <th>853</th>\n",
       "      <td>1</td>\n",
       "      <td>16.0</td>\n",
       "      <td>39.4000</td>\n",
       "      <td>1</td>\n",
       "      <td>0</td>\n",
       "      <td>1</td>\n",
       "      <td>0</td>\n",
       "      <td>0</td>\n",
       "      <td>1</td>\n",
       "    </tr>\n",
       "    <tr>\n",
       "      <th>591</th>\n",
       "      <td>1</td>\n",
       "      <td>52.0</td>\n",
       "      <td>78.2667</td>\n",
       "      <td>1</td>\n",
       "      <td>1</td>\n",
       "      <td>0</td>\n",
       "      <td>0</td>\n",
       "      <td>0</td>\n",
       "      <td>1</td>\n",
       "    </tr>\n",
       "    <tr>\n",
       "      <th>373</th>\n",
       "      <td>1</td>\n",
       "      <td>22.0</td>\n",
       "      <td>135.6333</td>\n",
       "      <td>0</td>\n",
       "      <td>1</td>\n",
       "      <td>0</td>\n",
       "      <td>0</td>\n",
       "      <td>1</td>\n",
       "      <td>0</td>\n",
       "    </tr>\n",
       "    <tr>\n",
       "      <th>397</th>\n",
       "      <td>2</td>\n",
       "      <td>46.0</td>\n",
       "      <td>26.0000</td>\n",
       "      <td>0</td>\n",
       "      <td>0</td>\n",
       "      <td>1</td>\n",
       "      <td>0</td>\n",
       "      <td>1</td>\n",
       "      <td>0</td>\n",
       "    </tr>\n",
       "    <tr>\n",
       "      <th>827</th>\n",
       "      <td>2</td>\n",
       "      <td>1.0</td>\n",
       "      <td>37.0042</td>\n",
       "      <td>2</td>\n",
       "      <td>1</td>\n",
       "      <td>0</td>\n",
       "      <td>0</td>\n",
       "      <td>1</td>\n",
       "      <td>0</td>\n",
       "    </tr>\n",
       "  </tbody>\n",
       "</table>\n",
       "</div>"
      ],
      "text/plain": [
       "     Pclass   Age      Fare  Family  C  S  Q  male  female\n",
       "853       1  16.0   39.4000       1  0  1  0     0       1\n",
       "591       1  52.0   78.2667       1  1  0  0     0       1\n",
       "373       1  22.0  135.6333       0  1  0  0     1       0\n",
       "397       2  46.0   26.0000       0  0  1  0     1       0\n",
       "827       2   1.0   37.0042       2  1  0  0     1       0"
      ]
     },
     "execution_count": 655,
     "metadata": {},
     "output_type": "execute_result"
    }
   ],
   "source": [
    "drop_titanic_data_train['male'] = gender_data['male']\n",
    "drop_titanic_data_train['female'] = gender_data['female']\n",
    "drop_titanic_data_train = drop_titanic_data_train.drop('Sex', axis=1)\n",
    "drop_titanic_data_train.head()"
   ]
  },
  {
   "cell_type": "code",
   "execution_count": 656,
   "metadata": {},
   "outputs": [],
   "source": [
    "# Great. Now everything's numeric so we should be able to fit a model.\n",
    "# Fitting the model\n",
    "from sklearn.linear_model import LogisticRegression\n",
    "LogisticModel = LogisticRegression()\n",
    "logistic_fit = LogisticModel.fit(X=drop_titanic_data_train, y=drop_labels_train)"
   ]
  },
  {
   "cell_type": "markdown",
   "metadata": {},
   "source": [
    "# Evaluate how well the model performs. \n",
    "## (What metrics specifically would you use to evaluate a binary classifier and determine whether it's good)? "
   ]
  },
  {
   "cell_type": "code",
   "execution_count": null,
   "metadata": {
    "collapsed": true
   },
   "outputs": [],
   "source": [
    "# testing the data\n",
    "# on the first pass, I simply find the percentage of test data labels that are accurate\n",
    "# aka, there is a probability >0.5 evaluates to a \"survived\" label\n",
    "# but first we have to clean the training data the same way we cleaned the test data\n",
    "# I define a function for cleaning these data, for reproducibility\n",
    "def clean_data_titanic(titanic_data, labels):\n",
    "    titanic_data.family_members = titanic_data.SibSp + titanic_data.Parch\n",
    "    titanic_data = titanic_data.drop('Ticket', axis=1)\n",
    "    family_members = titanic_data.SibSp + titanic_data.Parch\n",
    "    titanic_data['Family'] = family_members\n",
    "    titanic_data = titanic_data.drop('SibSp', axis=1)\n",
    "    titanic_data = titanic_data.drop('Parch', axis=1)\n",
    "    titanic_data = titanic_data.drop('PassengerId', axis=1)\n",
    "    titanic_data = titanic_data.drop('Name', axis=1)\n",
    "    titanic_data['Labels'] = labels\n",
    "    drop_titanic_data = titanic_data.dropna()\n",
    "    drop_labels = drop_titanic_data['Labels']\n",
    "    titanic_data = titanic_data.drop('Labels', axis=1)\n",
    "    drop_titanic_data = drop_titanic_data.drop('Labels', axis=1)\n",
    "    binary_data = pd.get_dummies(drop_titanic_data.Embarked)\n",
    "    drop_titanic_data['C'] = binary_data['C']\n",
    "    drop_titanic_data['S'] = binary_data['S']\n",
    "    drop_titanic_data['Q'] = binary_data['Q']\n",
    "    drop_titanic_data = drop_titanic_data.drop('Embarked', axis=1)\n",
    "    gender_data = pd.get_dummies(drop_titanic_data.Sex)\n",
    "    drop_titanic_data['male'] = gender_data['male']\n",
    "    drop_titanic_data['female'] = gender_data['female']\n",
    "    drop_titanic_data = drop_titanic_data.drop('Sex', axis=1)\n",
    "    return drop_titanic_data, drop_labels"
   ]
  },
  {
   "cell_type": "code",
   "execution_count": null,
   "metadata": {},
   "outputs": [],
   "source": [
    "drop_titanic_data_test, drop_labels_test = clean_data_titanic(titanic_data_test, labels_test)\n",
    "drop_titanic_data_test.head()"
   ]
  },
  {
   "cell_type": "code",
   "execution_count": null,
   "metadata": {},
   "outputs": [],
   "source": [
    "# the scikit-learn method \"score\" makes determining correctness straightforward\n",
    "logistic_fit.score(drop_titanic_data_test, drop_labels_test)"
   ]
  },
  {
   "cell_type": "code",
   "execution_count": null,
   "metadata": {
    "collapsed": true
   },
   "outputs": [],
   "source": [
    "# Clearly, this model could improve. \n",
    "# I modify the clean_data_titanic function slightly and compare \n",
    "# to the data set that contains all passengers, but not their ages (due to NaNs, as discussed previously)\n",
    "def clean_age_data_titanic(titanic_data):\n",
    "    print(titanic_data.head())\n",
    "    # modifying here - eliminate record-dropping, but drop the age column\n",
    "    drop_titanic_data = titanic_data.drop('Age', axis=1)\n",
    "    binary_data = pd.get_dummies(drop_titanic_data.Embarked)\n",
    "    drop_titanic_data['C'] = binary_data['C']\n",
    "    drop_titanic_data['S'] = binary_data['S']\n",
    "    drop_titanic_data['Q'] = binary_data['Q']\n",
    "    drop_titanic_data = drop_titanic_data.drop('Embarked', axis=1)\n",
    "    gender_data = pd.get_dummies(drop_titanic_data.Sex)\n",
    "    drop_titanic_data['male'] = gender_data['male']\n",
    "    drop_titanic_data['female'] = gender_data['female']\n",
    "    drop_titanic_data = drop_titanic_data.drop('Sex', axis=1)\n",
    "    return drop_titanic_data"
   ]
  },
  {
   "cell_type": "code",
   "execution_count": null,
   "metadata": {},
   "outputs": [],
   "source": [
    "drop_age_titanic_data_train = clean_age_data_titanic(titanic_data_train)\n",
    "logistic_fit_age = LogisticModel.fit(X=drop_age_titanic_data_train, y=labels_train)"
   ]
  },
  {
   "cell_type": "code",
   "execution_count": null,
   "metadata": {},
   "outputs": [],
   "source": [
    "# Problems Arose Here\n",
    "#drop_age_titanic_data_test = clean_age_data_titanic(titanic_data_test)\n",
    "#logistic_fit.score(drop_age_titanic_data_test, labels_test)"
   ]
  },
  {
   "cell_type": "code",
   "execution_count": null,
   "metadata": {
    "collapsed": true
   },
   "outputs": [],
   "source": [
    "# whoops, need to modify the function again\n",
    "# would make a much cleaner/more reproducible process in a full analysis\n",
    "def clean_age_data_titanic(titanic_data):\n",
    "    titanic_data.family_members = titanic_data.SibSp + titanic_data.Parch\n",
    "    titanic_data = titanic_data.drop('Ticket', axis=1)\n",
    "    family_members = titanic_data.SibSp + titanic_data.Parch\n",
    "    titanic_data['Family'] = family_members\n",
    "    titanic_data = titanic_data.drop('SibSp', axis=1)\n",
    "    titanic_data = titanic_data.drop('Parch', axis=1)\n",
    "    titanic_data = titanic_data.drop('PassengerId', axis=1)\n",
    "    titanic_data = titanic_data.drop('Name', axis=1)\n",
    "    # modifying here - eliminate record-dropping, but drop the age column\n",
    "    drop_titanic_data = titanic_data.drop('Age', axis=1)\n",
    "    binary_data = pd.get_dummies(drop_titanic_data.Embarked)\n",
    "    drop_titanic_data['C'] = binary_data['C']\n",
    "    drop_titanic_data['S'] = binary_data['S']\n",
    "    drop_titanic_data['Q'] = binary_data['Q']\n",
    "    drop_titanic_data = drop_titanic_data.drop('Embarked', axis=1)\n",
    "    gender_data = pd.get_dummies(drop_titanic_data.Sex)\n",
    "    drop_titanic_data['male'] = gender_data['male']\n",
    "    drop_titanic_data['female'] = gender_data['female']\n",
    "    drop_titanic_data = drop_titanic_data.drop('Sex', axis=1)\n",
    "    return drop_titanic_data"
   ]
  },
  {
   "cell_type": "code",
   "execution_count": null,
   "metadata": {},
   "outputs": [],
   "source": [
    "drop_age_titanic_data_test = clean_age_data_titanic(titanic_data_test)\n",
    "logistic_fit_age.score(drop_age_titanic_data_test, labels_test)"
   ]
  },
  {
   "cell_type": "code",
   "execution_count": null,
   "metadata": {
    "collapsed": true
   },
   "outputs": [],
   "source": [
    "# not much of a difference between those two. \n",
    "# the next thing to try would be to try to get a sense of which features are most predictive\n",
    "# I didn't do any pre-model analysis, and that would be helpful.\n",
    "# Choosing another model could also exploit some of the nuances of this particular problem."
   ]
  },
  {
   "cell_type": "code",
   "execution_count": null,
   "metadata": {
    "collapsed": true
   },
   "outputs": [],
   "source": [
    "# Total time I took to complete the analysis: ~1.5 hours, not continuous\n",
    "# Thank you, Alyssa, for your time!"
   ]
  }
 ],
 "metadata": {
  "kernelspec": {
   "display_name": "Python 3",
   "language": "python",
   "name": "python3"
  },
  "language_info": {
   "codemirror_mode": {
    "name": "ipython",
    "version": 3
   },
   "file_extension": ".py",
   "mimetype": "text/x-python",
   "name": "python",
   "nbconvert_exporter": "python",
   "pygments_lexer": "ipython3",
   "version": "3.5.2"
  }
 },
 "nbformat": 4,
 "nbformat_minor": 2
}
